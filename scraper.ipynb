{
 "cells": [
  {
   "cell_type": "markdown",
   "metadata": {},
   "source": [
    "# Ceneo Scraper\n",
    "\n",
    "| Component | Selector | Variable | \n",
    "| --------- | -------- | -------- | \n",
    "| opinion ID | | \n",
    "| opinion’s author | | \n",
    "| author’s recommendation | | \n",
    "| score expressed in number of stars | | \n",
    "| opinion’s content | | \n",
    "| list of product advantages | | \n",
    "| list of product disadvantages | | \n",
    "| how many users think that opinion was helpful | | \n",
    "| how many users think that opinion was unhelpful | | \n",
    "| publishing date | | \n",
    "| purchase date | | "
   ]
  },
  {
   "cell_type": "code",
   "execution_count": null,
   "metadata": {},
   "outputs": [],
   "source": [
    "import requests\n",
    "from bs4 import BeautifulSoup\n",
    "\n",
    "product_id = \"158184470\"\n",
    "url = \"https://www.ceneo.pl/\" + product_id + \"#tab-reviews\"\n",
    "responce = requests.get(url)\n",
    "print(responce.status_code)"
   ]
  },
  {
   "cell_type": "code",
   "execution_count": null,
   "metadata": {},
   "outputs": [],
   "source": [
    "page_dom = BeautifulSoup(responce.text, \"html.parser\")\n",
    "opinions = page_dom.select(\"div.js_product-review\")\n",
    "opinion = page_dom.select_one(\"div.js_product-review\")\n",
    "\n",
    "opinion_id = opinion[\"data-entry-id\"]\n",
    "opinion_author = opinion[\"span.user-post__author-recomendation\"]\n",
    "opinion_recomendation = opinion[\"span.user-post__score-count\"]\n",
    "opinion_rating = opinion[\"div.user-post__score-count\"]\n",
    "opinion_content = opinion[\"div.user-post__text\"]\n",
    "opinion_pros = opinion[\"div.review.feture__title--positives ~ div.review-feture__item\"]\n",
    "opinion_cons = opinion[\"div.revuew.fetere__title--negatives ~ div.review0feture__item\"]\n",
    "opinion_helpful_count = opinion[\"\"]\n",
    "# opinion_author = opinion[\"user-post__author-name\"]\n",
    "print(opinion)\n",
    "print(opinion_id)\n"
   ]
  }
 ],
 "metadata": {
  "kernelspec": {
   "display_name": ".venv",
   "language": "python",
   "name": "python3"
  },
  "language_info": {
   "codemirror_mode": {
    "name": "ipython",
    "version": 3
   },
   "file_extension": ".py",
   "mimetype": "text/x-python",
   "name": "python",
   "nbconvert_exporter": "python",
   "pygments_lexer": "ipython3",
   "version": "3.12.2"
  }
 },
 "nbformat": 4,
 "nbformat_minor": 2
}
